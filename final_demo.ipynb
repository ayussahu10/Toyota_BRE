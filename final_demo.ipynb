{
 "cells": [
  {
   "cell_type": "code",
   "execution_count": 1,
   "id": "cd68cc3b",
   "metadata": {},
   "outputs": [],
   "source": [
    "import streamlit as st\n",
    "import pandas as pd\n",
    "import ast\n",
    "from ast import literal_eval\n",
    "import chromadb\n",
    "from chromadb.utils import embedding_functions\n",
    "import openai\n",
    "from pathlib import Path\n",
    "import base64\n",
    "import uuid\n",
    "from openai import AzureOpenAI\n",
    "from chromadb import Documents, EmbeddingFunction, Embeddings"
   ]
  },
  {
   "cell_type": "code",
   "execution_count": 2,
   "id": "148df6d7",
   "metadata": {},
   "outputs": [],
   "source": [
    "def retreive_relevant_docs(chromdb_collection,prompt_embeddings):\n",
    "    title_query_result = chromdb_collection.query(\n",
    "        query_embeddings=prompt_embeddings,\n",
    "        n_results=10,\n",
    "        include=['metadatas','distances', 'documents']\n",
    "    )\n",
    "#     print(title_query_result)\n",
    "    result = pd.DataFrame({\n",
    "                'id':title_query_result['ids'][0], \n",
    "                'score':title_query_result['distances'][0],\n",
    "                'docs':title_query_result['documents'][0],\n",
    "                'metadata': title_query_result['metadatas'][0]\n",
    "                })\n",
    "    return result"
   ]
  },
  {
   "cell_type": "code",
   "execution_count": 3,
   "id": "c9ecc51f",
   "metadata": {},
   "outputs": [],
   "source": [
    "def get_embeddings(input_text):\n",
    "    client = AzureOpenAI(\n",
    "    api_key = \"3a3b78172a564e5187901b0b2a268100\",\n",
    "    api_version = \"2023-05-15\",\n",
    "    azure_endpoint = \"https://usammcomponentfactoryopenaiservicetmna.openai.azure.com/\"\n",
    "    )\n",
    "    \n",
    "    response = client.embeddings.create(\n",
    "        input = input_text,\n",
    "        model= \"TextEmbeddingADA002\"\n",
    "    )\n",
    "    \n",
    "    return response.data[0].embedding"
   ]
  },
  {
   "cell_type": "code",
   "execution_count": 4,
   "id": "92246dae",
   "metadata": {},
   "outputs": [],
   "source": [
    "def get_response(prompt, system, temperature = 1.0):\n",
    "    client = AzureOpenAI(\n",
    "    api_key = \"3a3b78172a564e5187901b0b2a268100\",  \n",
    "    api_version = \"2023-05-15\",\n",
    "    azure_endpoint = \"https://usammcomponentfactoryopenaiservicetmna.openai.azure.com/\"\n",
    "    )\n",
    "\n",
    "    response = client.chat.completions.create(\n",
    "        model=\"TurboCodeGPT35Turbo\", # model = \"deployment_name\".\n",
    "        messages=[\n",
    "            {\"role\": \"system\", \"content\": system},\n",
    "            {\"role\": \"user\", \"content\": prompt}\n",
    "        ],\n",
    "        # max_tokens=3000\n",
    "    )\n",
    "\n",
    "    #print(response)\n",
    "    # print(response.model_dump_json(indent=2))\n",
    "    return response.choices[0].message.content"
   ]
  },
  {
   "cell_type": "code",
   "execution_count": 5,
   "id": "ddbf3ef2",
   "metadata": {},
   "outputs": [],
   "source": [
    "def create_context(df):\n",
    "    context = ''\n",
    "    # print(df['documents'])\n",
    "    for i, row in df[['metadata', 'docs']].iterrows():\n",
    "        \n",
    "        context += f\"Program Name. {row['metadata']['program_name']} ,Rule Sequence no. {row['metadata']['Rule_Sequence_Number']} :\\n{row['docs']}\\n\"\n",
    "        \n",
    "#     print('context: ', context)\n",
    "    return context"
   ]
  },
  {
   "cell_type": "code",
   "execution_count": 6,
   "id": "bcfcbe34",
   "metadata": {},
   "outputs": [],
   "source": [
    "# dtype = {'Code/Database': str, 'Functional Description':str,'English Translation':str}\n",
    "df = pd.read_csv('PASB400_annotations_refined.csv')\n",
    "df = df.drop_duplicates()"
   ]
  },
  {
   "cell_type": "code",
   "execution_count": 7,
   "id": "43713e7c",
   "metadata": {},
   "outputs": [
    {
     "data": {
      "text/html": [
       "<div>\n",
       "<style scoped>\n",
       "    .dataframe tbody tr th:only-of-type {\n",
       "        vertical-align: middle;\n",
       "    }\n",
       "\n",
       "    .dataframe tbody tr th {\n",
       "        vertical-align: top;\n",
       "    }\n",
       "\n",
       "    .dataframe thead th {\n",
       "        text-align: right;\n",
       "    }\n",
       "</style>\n",
       "<table border=\"1\" class=\"dataframe\">\n",
       "  <thead>\n",
       "    <tr style=\"text-align: right;\">\n",
       "      <th></th>\n",
       "      <th>Annotation Type</th>\n",
       "      <th>Category</th>\n",
       "      <th>State</th>\n",
       "      <th>Source Code</th>\n",
       "      <th>Rule Sequence Number</th>\n",
       "      <th>Annotation Description</th>\n",
       "      <th>Code/Database</th>\n",
       "      <th>Functional Description</th>\n",
       "      <th>Modified By</th>\n",
       "      <th>English Translation</th>\n",
       "    </tr>\n",
       "  </thead>\n",
       "  <tbody>\n",
       "    <tr>\n",
       "      <th>0</th>\n",
       "      <td>RULE</td>\n",
       "      <td>Technical Rule</td>\n",
       "      <td>CANDIDATE</td>\n",
       "      <td>EXEC SQL                            ...</td>\n",
       "      <td>0.1</td>\n",
       "      <td>Declare C1-DENVCAL cursor:\\nThis code declares...</td>\n",
       "      <td>NaN</td>\n",
       "      <td>NaN</td>\n",
       "      <td>Subha Murugan</td>\n",
       "      <td>NaN</td>\n",
       "    </tr>\n",
       "    <tr>\n",
       "      <th>1</th>\n",
       "      <td>RULE</td>\n",
       "      <td>Technical Rule</td>\n",
       "      <td>CANDIDATE</td>\n",
       "      <td>EXEC SQL                           ...</td>\n",
       "      <td>0.2</td>\n",
       "      <td>Declare C2-MDSCPCO:\\nThis code is declaring a ...</td>\n",
       "      <td>NaN</td>\n",
       "      <td>NaN</td>\n",
       "      <td>Subha Murugan</td>\n",
       "      <td>NaN</td>\n",
       "    </tr>\n",
       "    <tr>\n",
       "      <th>2</th>\n",
       "      <td>RULE</td>\n",
       "      <td>Technical Rule</td>\n",
       "      <td>CANDIDATE</td>\n",
       "      <td>EXEC SQL                           ...</td>\n",
       "      <td>0.3</td>\n",
       "      <td>Declare cursor C3-MDSITCR:\\nThis code declares...</td>\n",
       "      <td>NaN</td>\n",
       "      <td>NaN</td>\n",
       "      <td>Subha Murugan</td>\n",
       "      <td>NaN</td>\n",
       "    </tr>\n",
       "    <tr>\n",
       "      <th>3</th>\n",
       "      <td>RULE</td>\n",
       "      <td>Technical Rule</td>\n",
       "      <td>CANDIDATE</td>\n",
       "      <td>IF WS-IN01-STATUS = '00'            ...</td>\n",
       "      <td>1.1</td>\n",
       "      <td>File status check on opening input file 01:\\n\\...</td>\n",
       "      <td>NaN</td>\n",
       "      <td>NaN</td>\n",
       "      <td>Subha Murugan</td>\n",
       "      <td>NaN</td>\n",
       "    </tr>\n",
       "    <tr>\n",
       "      <th>4</th>\n",
       "      <td>RULE</td>\n",
       "      <td>Technical Rule</td>\n",
       "      <td>CANDIDATE</td>\n",
       "      <td>IF WS-IN02-STATUS = '00'           ...</td>\n",
       "      <td>1.2</td>\n",
       "      <td>File status check on opening input file 02:\\nT...</td>\n",
       "      <td>NaN</td>\n",
       "      <td>NaN</td>\n",
       "      <td>Subha Murugan</td>\n",
       "      <td>NaN</td>\n",
       "    </tr>\n",
       "    <tr>\n",
       "      <th>...</th>\n",
       "      <td>...</td>\n",
       "      <td>...</td>\n",
       "      <td>...</td>\n",
       "      <td>...</td>\n",
       "      <td>...</td>\n",
       "      <td>...</td>\n",
       "      <td>...</td>\n",
       "      <td>...</td>\n",
       "      <td>...</td>\n",
       "      <td>...</td>\n",
       "    </tr>\n",
       "    <tr>\n",
       "      <th>69</th>\n",
       "      <td>RULE</td>\n",
       "      <td>Process Rule</td>\n",
       "      <td>CANDIDATE</td>\n",
       "      <td>EVALUATE SQLCODE                    ...</td>\n",
       "      <td>13.2</td>\n",
       "      <td>Evaluate the SQL code for close cursor C1-DENV...</td>\n",
       "      <td>NaN</td>\n",
       "      <td>NaN</td>\n",
       "      <td>Subha Murugan</td>\n",
       "      <td>NaN</td>\n",
       "    </tr>\n",
       "    <tr>\n",
       "      <th>70</th>\n",
       "      <td>RULE</td>\n",
       "      <td>Error Processing Rule</td>\n",
       "      <td>CANDIDATE</td>\n",
       "      <td>WHEN OTHER                     ...</td>\n",
       "      <td>13.3</td>\n",
       "      <td>Evaluate the SQL code for close cursor C1-DENV...</td>\n",
       "      <td>NaN</td>\n",
       "      <td>NaN</td>\n",
       "      <td>Subha Murugan</td>\n",
       "      <td>NaN</td>\n",
       "    </tr>\n",
       "    <tr>\n",
       "      <th>71</th>\n",
       "      <td>RULE</td>\n",
       "      <td>Technical Rule</td>\n",
       "      <td>CANDIDATE</td>\n",
       "      <td>IF WS-IN01-STATUS = '00'              ...</td>\n",
       "      <td>13.4</td>\n",
       "      <td>This code checks if the status of a file named...</td>\n",
       "      <td>NaN</td>\n",
       "      <td>NaN</td>\n",
       "      <td>Subha Murugan</td>\n",
       "      <td>NaN</td>\n",
       "    </tr>\n",
       "    <tr>\n",
       "      <th>72</th>\n",
       "      <td>RULE</td>\n",
       "      <td>Technical Rule</td>\n",
       "      <td>CANDIDATE</td>\n",
       "      <td>IF WS-IN02-STATUS = '00'           ...</td>\n",
       "      <td>13.5</td>\n",
       "      <td>This code checks if the status of a file named...</td>\n",
       "      <td>NaN</td>\n",
       "      <td>NaN</td>\n",
       "      <td>Subha Murugan</td>\n",
       "      <td>NaN</td>\n",
       "    </tr>\n",
       "    <tr>\n",
       "      <th>73</th>\n",
       "      <td>RULE</td>\n",
       "      <td>Technical Rule</td>\n",
       "      <td>CANDIDATE</td>\n",
       "      <td>IF WS-OUT01-STATUS NOT = '00' THEN ...</td>\n",
       "      <td>13.6</td>\n",
       "      <td>If the status of output file 1 is not '00', di...</td>\n",
       "      <td>NaN</td>\n",
       "      <td>NaN</td>\n",
       "      <td>Subha Murugan</td>\n",
       "      <td>NaN</td>\n",
       "    </tr>\n",
       "  </tbody>\n",
       "</table>\n",
       "<p>74 rows × 10 columns</p>\n",
       "</div>"
      ],
      "text/plain": [
       "   Annotation Type               Category      State  \\\n",
       "0             RULE         Technical Rule  CANDIDATE   \n",
       "1             RULE         Technical Rule  CANDIDATE   \n",
       "2             RULE         Technical Rule  CANDIDATE   \n",
       "3             RULE         Technical Rule  CANDIDATE   \n",
       "4             RULE         Technical Rule  CANDIDATE   \n",
       "..             ...                    ...        ...   \n",
       "69            RULE           Process Rule  CANDIDATE   \n",
       "70            RULE  Error Processing Rule  CANDIDATE   \n",
       "71            RULE         Technical Rule  CANDIDATE   \n",
       "72            RULE         Technical Rule  CANDIDATE   \n",
       "73            RULE         Technical Rule  CANDIDATE   \n",
       "\n",
       "                                          Source Code  Rule Sequence Number  \\\n",
       "0             EXEC SQL                            ...                   0.1   \n",
       "1              EXEC SQL                           ...                   0.2   \n",
       "2              EXEC SQL                           ...                   0.3   \n",
       "3             IF WS-IN01-STATUS = '00'            ...                   1.1   \n",
       "4              IF WS-IN02-STATUS = '00'           ...                   1.2   \n",
       "..                                                ...                   ...   \n",
       "69            EVALUATE SQLCODE                    ...                  13.2   \n",
       "70                 WHEN OTHER                     ...                  13.3   \n",
       "71          IF WS-IN01-STATUS = '00'              ...                  13.4   \n",
       "72             IF WS-IN02-STATUS = '00'           ...                  13.5   \n",
       "73             IF WS-OUT01-STATUS NOT = '00' THEN ...                  13.6   \n",
       "\n",
       "                               Annotation Description Code/Database  \\\n",
       "0   Declare C1-DENVCAL cursor:\\nThis code declares...           NaN   \n",
       "1   Declare C2-MDSCPCO:\\nThis code is declaring a ...           NaN   \n",
       "2   Declare cursor C3-MDSITCR:\\nThis code declares...           NaN   \n",
       "3   File status check on opening input file 01:\\n\\...           NaN   \n",
       "4   File status check on opening input file 02:\\nT...           NaN   \n",
       "..                                                ...           ...   \n",
       "69  Evaluate the SQL code for close cursor C1-DENV...           NaN   \n",
       "70  Evaluate the SQL code for close cursor C1-DENV...           NaN   \n",
       "71  This code checks if the status of a file named...           NaN   \n",
       "72  This code checks if the status of a file named...           NaN   \n",
       "73  If the status of output file 1 is not '00', di...           NaN   \n",
       "\n",
       "   Functional Description    Modified By  English Translation  \n",
       "0                     NaN  Subha Murugan                  NaN  \n",
       "1                     NaN  Subha Murugan                  NaN  \n",
       "2                     NaN  Subha Murugan                  NaN  \n",
       "3                     NaN  Subha Murugan                  NaN  \n",
       "4                     NaN  Subha Murugan                  NaN  \n",
       "..                    ...            ...                  ...  \n",
       "69                    NaN  Subha Murugan                  NaN  \n",
       "70                    NaN  Subha Murugan                  NaN  \n",
       "71                    NaN  Subha Murugan                  NaN  \n",
       "72                    NaN  Subha Murugan                  NaN  \n",
       "73                    NaN  Subha Murugan                  NaN  \n",
       "\n",
       "[74 rows x 10 columns]"
      ]
     },
     "execution_count": 7,
     "metadata": {},
     "output_type": "execute_result"
    }
   ],
   "source": [
    "df"
   ]
  },
  {
   "cell_type": "code",
   "execution_count": 10,
   "id": "a113656e",
   "metadata": {},
   "outputs": [],
   "source": [
    "df = df.rename(columns = {'Functional Description':'Functional_Description'})\n",
    "df = df.rename(columns = {'Rule Sequence Number':'Rule_Sequence_Number'})\n",
    "df = df.rename(columns = {'Annotation Description':'Annotation_Description'})"
   ]
  },
  {
   "cell_type": "code",
   "execution_count": 11,
   "id": "ca65316d",
   "metadata": {},
   "outputs": [],
   "source": [
    "embeddings = []\n",
    "for i in range(len(df['Functional_Description'])):\n",
    "    embd = get_embeddings(str(df['Functional_Description'][i]))\n",
    "    embeddings.append(embd)"
   ]
  },
  {
   "cell_type": "code",
   "execution_count": null,
   "id": "d1726473",
   "metadata": {},
   "outputs": [],
   "source": []
  },
  {
   "cell_type": "code",
   "execution_count": 12,
   "id": "c5b1c7b2",
   "metadata": {},
   "outputs": [],
   "source": [
    "df['embeddings'] = embeddings"
   ]
  },
  {
   "cell_type": "code",
   "execution_count": 29,
   "id": "f9a1567b",
   "metadata": {},
   "outputs": [],
   "source": [
    "df['program_name'] = 'PASB400'"
   ]
  },
  {
   "cell_type": "code",
   "execution_count": 30,
   "id": "71211f9e",
   "metadata": {},
   "outputs": [],
   "source": [
    "df['id'] = [str(uuid.uuid4()) for _ in range(len(df))]"
   ]
  },
  {
   "cell_type": "code",
   "execution_count": 31,
   "id": "f31e62d2",
   "metadata": {},
   "outputs": [],
   "source": [
    "df['Functional_Description'] = df['Functional_Description'].astype(str)\n",
    "# df['embeddings'] = df['embeddings'].apply(literal_eval)"
   ]
  },
  {
   "cell_type": "code",
   "execution_count": 33,
   "id": "6d3b5749",
   "metadata": {},
   "outputs": [
    {
     "data": {
      "text/plain": [
       "0     [0.0018096872372552752, -0.02556374855339527, ...\n",
       "1     [0.0018096872372552752, -0.02556374855339527, ...\n",
       "2     [0.0018096872372552752, -0.02556374855339527, ...\n",
       "3     [0.0018096872372552752, -0.02556374855339527, ...\n",
       "4     [0.0018096872372552752, -0.02556374855339527, ...\n",
       "                            ...                        \n",
       "69    [0.0018096872372552752, -0.02556374855339527, ...\n",
       "70    [0.0018096872372552752, -0.02556374855339527, ...\n",
       "71    [0.0018096872372552752, -0.02556374855339527, ...\n",
       "72    [0.0018096872372552752, -0.02556374855339527, ...\n",
       "73    [0.0018096872372552752, -0.02556374855339527, ...\n",
       "Name: embeddings, Length: 74, dtype: object"
      ]
     },
     "execution_count": 33,
     "metadata": {},
     "output_type": "execute_result"
    }
   ],
   "source": [
    "df['embeddings']"
   ]
  },
  {
   "cell_type": "code",
   "execution_count": 34,
   "id": "68735af3",
   "metadata": {},
   "outputs": [
    {
     "name": "stderr",
     "output_type": "stream",
     "text": [
      "C:\\Users\\ayussahu\\AppData\\Local\\Temp\\ipykernel_12880\\2147554999.py:2: SettingWithCopyWarning: \n",
      "A value is trying to be set on a copy of a slice from a DataFrame.\n",
      "Try using .loc[row_indexer,col_indexer] = value instead\n",
      "\n",
      "See the caveats in the documentation: https://pandas.pydata.org/pandas-docs/stable/user_guide/indexing.html#returning-a-view-versus-a-copy\n",
      "  result_df['id'] = result_df['id'].apply(str)\n"
     ]
    }
   ],
   "source": [
    "result_df = df[['program_name','Source Code','Rule_Sequence_Number','Annotation_Description','Functional_Description', 'embeddings','id']]\n",
    "result_df['id'] = result_df['id'].apply(str)"
   ]
  },
  {
   "cell_type": "code",
   "execution_count": 35,
   "id": "8e75e2f3",
   "metadata": {},
   "outputs": [
    {
     "name": "stderr",
     "output_type": "stream",
     "text": [
      "C:\\Users\\ayussahu\\AppData\\Local\\Temp\\ipykernel_12880\\1269197329.py:1: SettingWithCopyWarning: \n",
      "A value is trying to be set on a copy of a slice from a DataFrame.\n",
      "Try using .loc[row_indexer,col_indexer] = value instead\n",
      "\n",
      "See the caveats in the documentation: https://pandas.pydata.org/pandas-docs/stable/user_guide/indexing.html#returning-a-view-versus-a-copy\n",
      "  result_df['Rule_Sequence_Number'] = result_df['Rule_Sequence_Number'].apply(lambda x: {'Rule_Sequence_Number' : x})\n"
     ]
    }
   ],
   "source": [
    "result_df['Rule_Sequence_Number'] = result_df['Rule_Sequence_Number'].apply(lambda x: {'Rule_Sequence_Number' : x})"
   ]
  },
  {
   "cell_type": "code",
   "execution_count": 36,
   "id": "52631545",
   "metadata": {},
   "outputs": [
    {
     "name": "stderr",
     "output_type": "stream",
     "text": [
      "C:\\Users\\ayussahu\\AppData\\Local\\Temp\\ipykernel_12880\\3120863514.py:1: SettingWithCopyWarning: \n",
      "A value is trying to be set on a copy of a slice from a DataFrame.\n",
      "Try using .loc[row_indexer,col_indexer] = value instead\n",
      "\n",
      "See the caveats in the documentation: https://pandas.pydata.org/pandas-docs/stable/user_guide/indexing.html#returning-a-view-versus-a-copy\n",
      "  result_df['program_name'] = result_df['program_name'].apply(lambda x: {'Program_name' : x})\n"
     ]
    }
   ],
   "source": [
    "result_df['program_name'] = result_df['program_name'].apply(lambda x: {'Program_name' : x})"
   ]
  },
  {
   "cell_type": "code",
   "execution_count": 37,
   "id": "334799d1",
   "metadata": {},
   "outputs": [],
   "source": [
    "chroma_client = chromadb.Client()\n",
    "chromdb_collection = chroma_client.get_or_create_collection(name='stories')"
   ]
  },
  {
   "cell_type": "code",
   "execution_count": 38,
   "id": "fb199d9a",
   "metadata": {},
   "outputs": [],
   "source": [
    "metadf = df[['program_name','Source Code','Rule_Sequence_Number','Annotation_Description']]\n",
    "data = metadf.to_dict(orient='records')"
   ]
  },
  {
   "cell_type": "code",
   "execution_count": 39,
   "id": "47559d3c",
   "metadata": {},
   "outputs": [],
   "source": [
    "chromdb_collection.add(\n",
    "    ids=result_df.id.tolist(),\n",
    "    embeddings=result_df.embeddings.tolist(),\n",
    "    metadatas=data,\n",
    "    documents=result_df.Functional_Description.tolist()\n",
    "    )"
   ]
  },
  {
   "cell_type": "code",
   "execution_count": 40,
   "id": "d76f4c6f",
   "metadata": {},
   "outputs": [
    {
     "name": "stdout",
     "output_type": "stream",
     "text": [
      "Enter some text:list all business rules related to production year\n",
      "Business rules related to production year:\n",
      "\n",
      "1) Program Name: PASB400, Rule Sequence no: 5.6\n",
      "   - If the production year and month of sales PPO forecast file is equal to the Period1 production year and month of DENVCAL table, perform certain actions.\n",
      "\n",
      "2) Program Name: PASB400, Rule Sequence no: 5.7\n",
      "   - If the production year and month of sales PPO forecast file is equal to the Period2 or Period3 or Period4 production year and month of DENVCAL table, perform certain actions.\n",
      "\n",
      "3) Program Name: PASB400, Rule Sequence no: 4.2\n",
      "   - If the production period is 'PPR0', use Period1 of DENVCAL fetch for processing.\n",
      "\n",
      "4) Program Name: PASB400, Rule Sequence no: 4.3\n",
      "   - If the production period is 'PPR1', use Period2, Period3, and Period4 of DENVCAL fetch for processing.\n",
      "\n",
      "\n",
      "Accuracy Score: 100%\n"
     ]
    }
   ],
   "source": [
    "try:\n",
    "    # Get text input from the user\n",
    "    user_query = None\n",
    "    user_query_input = str(input(\"Enter some text:\"))\n",
    "\n",
    "    # Check if there is no input\n",
    "    if user_query_input:\n",
    "        user_query = user_query_input\n",
    "        # print('inside 1111111111111')\n",
    "    elif prompt1: \n",
    "        user_query = 'How is SSN validated ?'\n",
    "        # print('inside 222222222222222')\n",
    "\n",
    "    elif prompt2:\n",
    "        user_query = \"List all business rules related to production planning\"\n",
    "        # print('inside 33333333333333333')\n",
    "\n",
    "    elif prompt3:\n",
    "        user_query = \"List all business rules related to production periods\"\n",
    "        # print('inside 444444444444444')\n",
    "\n",
    "    if user_query:\n",
    "#         print('*************user query:*************** ', user_query)\n",
    "        title_query_result = retreive_relevant_docs(chromdb_collection, get_embeddings(user_query))\n",
    "#         print('*************relevant documents**************')\n",
    "#         print(title_query_result)\n",
    "        # st.write(title_query_result['documents'])\n",
    "        context = create_context(title_query_result)\n",
    "        # print(context)\n",
    "\n",
    "        # generate RAG responses by passing top relevant documents\n",
    "        system_prompt = \"\"\"You are an intelligent question answer assistant. \n",
    "        Your task is to display business rules,Program name and Rule Sequence no from the provided context based on the questions asked by user. \n",
    "        Display accuracy score of your answer at the end.\"\"\"\n",
    "\n",
    "        message_prompt = f\"\"\"\n",
    "        Question:\n",
    "        ```\n",
    "        {user_query}\n",
    "        ```\n",
    "\n",
    "        Context:\n",
    "        ```\n",
    "        {context}\n",
    "        ```\n",
    "\n",
    "        Answer:\n",
    "\n",
    "        \"\"\"\n",
    "\n",
    "        response = get_response(message_prompt, system_prompt, temperature = 0.8)\n",
    "\n",
    "        print(response)\n",
    "        \n",
    "except Exception as e:\n",
    "    print(e)"
   ]
  },
  {
   "cell_type": "code",
   "execution_count": null,
   "id": "f687bff3",
   "metadata": {},
   "outputs": [],
   "source": []
  },
  {
   "cell_type": "code",
   "execution_count": null,
   "id": "7ee99b28",
   "metadata": {},
   "outputs": [],
   "source": []
  },
  {
   "cell_type": "code",
   "execution_count": null,
   "id": "7fde3547",
   "metadata": {},
   "outputs": [],
   "source": []
  },
  {
   "cell_type": "code",
   "execution_count": null,
   "id": "4139fc04",
   "metadata": {},
   "outputs": [],
   "source": []
  },
  {
   "cell_type": "code",
   "execution_count": null,
   "id": "95778850",
   "metadata": {},
   "outputs": [],
   "source": []
  },
  {
   "cell_type": "code",
   "execution_count": null,
   "id": "1f686087",
   "metadata": {},
   "outputs": [],
   "source": []
  },
  {
   "cell_type": "code",
   "execution_count": null,
   "id": "ff98d75b",
   "metadata": {},
   "outputs": [],
   "source": []
  },
  {
   "cell_type": "code",
   "execution_count": null,
   "id": "1e8fd7fe",
   "metadata": {},
   "outputs": [],
   "source": []
  },
  {
   "cell_type": "code",
   "execution_count": null,
   "id": "903b1c4d",
   "metadata": {},
   "outputs": [],
   "source": []
  }
 ],
 "metadata": {
  "kernelspec": {
   "display_name": "Python 3 (ipykernel)",
   "language": "python",
   "name": "python3"
  },
  "language_info": {
   "codemirror_mode": {
    "name": "ipython",
    "version": 3
   },
   "file_extension": ".py",
   "mimetype": "text/x-python",
   "name": "python",
   "nbconvert_exporter": "python",
   "pygments_lexer": "ipython3",
   "version": "3.9.13"
  }
 },
 "nbformat": 4,
 "nbformat_minor": 5
}
